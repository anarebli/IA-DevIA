{
  "cells": [
    {
      "cell_type": "markdown",
      "metadata": {
        "id": "view-in-github",
        "colab_type": "text"
      },
      "source": [
        "<a href=\"https://colab.research.google.com/github/anarebli/IA-DevIA/blob/main/Titanic_Melhorado_Ensemble.ipynb\" target=\"_parent\"><img src=\"https://colab.research.google.com/assets/colab-badge.svg\" alt=\"Open In Colab\"/></a>"
      ]
    },
    {
      "cell_type": "markdown",
      "metadata": {
        "id": "RfdRuq5Jlr4f"
      },
      "source": [
        "#Kaggle - é um repositório de diversos dataset"
      ]
    },
    {
      "cell_type": "markdown",
      "metadata": {
        "id": "Rj395mQq5sEf"
      },
      "source": [
        "# Nova seção"
      ]
    },
    {
      "cell_type": "code",
      "execution_count": null,
      "metadata": {
        "colab": {
          "base_uri": "https://localhost:8080/"
        },
        "id": "CncU8j-bjuYo",
        "outputId": "56c274cb-678e-4a93-ff30-2900767138c4"
      },
      "outputs": [
        {
          "output_type": "stream",
          "name": "stdout",
          "text": [
            "Archive:  titanic.zip\n",
            "  inflating: gender_submission.csv   \n",
            "  inflating: test.csv                \n",
            "  inflating: train.csv               \n"
          ]
        }
      ],
      "source": [
        "!unzip titanic.zip"
      ]
    },
    {
      "cell_type": "code",
      "execution_count": null,
      "metadata": {
        "id": "Fa5v_aAYomaU",
        "colab": {
          "base_uri": "https://localhost:8080/"
        },
        "outputId": "2ffe501b-a30b-4307-cdbb-7963ea87d135"
      },
      "outputs": [
        {
          "output_type": "execute_result",
          "data": {
            "text/plain": [
              "PassengerId      int64\n",
              "Survived         int64\n",
              "Pclass           int64\n",
              "Name            object\n",
              "Sex             object\n",
              "Age            float64\n",
              "SibSp            int64\n",
              "Parch            int64\n",
              "Ticket          object\n",
              "Fare           float64\n",
              "Cabin           object\n",
              "Embarked        object\n",
              "dtype: object"
            ]
          },
          "metadata": {},
          "execution_count": 2
        }
      ],
      "source": [
        "import pandas as pd\n",
        "data = pd.read_csv(\"train.csv\")\n",
        "data.dtypes"
      ]
    },
    {
      "cell_type": "code",
      "execution_count": null,
      "metadata": {
        "id": "terwOS9-pLgq",
        "colab": {
          "base_uri": "https://localhost:8080/"
        },
        "outputId": "8b41c16c-757e-4b06-dd41-02c7c9264326"
      },
      "outputs": [
        {
          "output_type": "execute_result",
          "data": {
            "text/plain": [
              "0      0\n",
              "1      1\n",
              "2      1\n",
              "3      1\n",
              "4      0\n",
              "      ..\n",
              "886    0\n",
              "887    1\n",
              "888    0\n",
              "889    1\n",
              "890    0\n",
              "Name: Survived, Length: 891, dtype: int64"
            ]
          },
          "metadata": {},
          "execution_count": 3
        }
      ],
      "source": [
        "y =  data['Survived']\n",
        "y"
      ]
    },
    {
      "cell_type": "code",
      "execution_count": null,
      "metadata": {
        "id": "8fLS0FsxpjjH",
        "colab": {
          "base_uri": "https://localhost:8080/"
        },
        "outputId": "d10f5fd0-bf31-43a9-cda8-ec0c4d40a0eb"
      },
      "outputs": [
        {
          "output_type": "execute_result",
          "data": {
            "text/plain": [
              "Index(['PassengerId', 'Pclass', 'Name', 'Sex', 'Age', 'SibSp', 'Parch',\n",
              "       'Ticket', 'Fare', 'Cabin', 'Embarked'],\n",
              "      dtype='object')"
            ]
          },
          "metadata": {},
          "execution_count": 4
        }
      ],
      "source": [
        "X = data.drop('Survived', axis=1)\n",
        "X.columns"
      ]
    },
    {
      "cell_type": "code",
      "execution_count": null,
      "metadata": {
        "id": "vGUoVyy_qE1X",
        "colab": {
          "base_uri": "https://localhost:8080/"
        },
        "outputId": "c7606dae-c3da-4c75-b7b9-85f913e4c494"
      },
      "outputs": [
        {
          "output_type": "stream",
          "name": "stdout",
          "text": [
            " PassengerId  891 int64\n",
            "      Pclass    3 int64\n",
            "        Name  891 object\n",
            "         Sex    2 object\n",
            "         Age  265 float64\n",
            "       SibSp    7 int64\n",
            "       Parch    7 int64\n",
            "      Ticket  681 object\n",
            "        Fare  248 float64\n",
            "       Cabin  148 object\n",
            "    Embarked    4 object\n"
          ]
        }
      ],
      "source": [
        "#procura quantos elementos tem repetidos]\n",
        "for column in X.columns:\n",
        "    print(f'{column:>12} {len(set(X[column])):4} {X[column].dtypes}')"
      ]
    },
    {
      "cell_type": "code",
      "execution_count": null,
      "metadata": {
        "id": "O0S3hrxVrugx",
        "colab": {
          "base_uri": "https://localhost:8080/"
        },
        "outputId": "1b0e0d9d-e376-45b5-de34-227bb4dc182e"
      },
      "outputs": [
        {
          "output_type": "execute_result",
          "data": {
            "text/plain": [
              "Index(['Pclass', 'Sex', 'Age', 'SibSp', 'Parch', 'Fare', 'Embarked'], dtype='object')"
            ]
          },
          "metadata": {},
          "execution_count": 6
        }
      ],
      "source": [
        "#eliminando algumas caracteristicas do dataset e colocando no novo dtset Xdrop\n",
        "indesejadas = ['PassengerId', 'Name','Ticket','Cabin']\n",
        "Xdrop = X.drop(indesejadas, axis=1)\n",
        "Xdrop.columns"
      ]
    },
    {
      "cell_type": "code",
      "execution_count": null,
      "metadata": {
        "id": "0VoT7mpPsSqp",
        "colab": {
          "base_uri": "https://localhost:8080/"
        },
        "outputId": "0539e3c8-28ec-4ea7-8c98-9f1f8303ebf0"
      },
      "outputs": [
        {
          "output_type": "execute_result",
          "data": {
            "text/plain": [
              "Index(['Pclass', 'Age', 'SibSp', 'Parch', 'Fare'], dtype='object')"
            ]
          },
          "metadata": {},
          "execution_count": 7
        }
      ],
      "source": [
        "#separando os datasets só os numéricos\n",
        "Xnum = Xdrop.select_dtypes('number')\n",
        "Xnum.columns"
      ]
    },
    {
      "cell_type": "code",
      "execution_count": null,
      "metadata": {
        "id": "-thv_psRsfxO",
        "colab": {
          "base_uri": "https://localhost:8080/"
        },
        "outputId": "b362e4cd-d8a1-42fb-b635-299ea4431892"
      },
      "outputs": [
        {
          "output_type": "stream",
          "name": "stdout",
          "text": [
            "      Pclass 0\n",
            "         Age 177\n",
            "       SibSp 0\n",
            "       Parch 0\n",
            "        Fare 0\n"
          ]
        }
      ],
      "source": [
        "#procurando se tem alguma caracteristica inválida\n",
        "for column in Xnum.columns:\n",
        "    print(f'{column:>12} {sum(Xnum[column].isnull())}')"
      ]
    },
    {
      "cell_type": "code",
      "execution_count": null,
      "metadata": {
        "id": "eMzRm5iNtKvs",
        "colab": {
          "base_uri": "https://localhost:8080/"
        },
        "outputId": "9d6b7a0d-cac3-47c4-eb87-993dd5850283"
      },
      "outputs": [
        {
          "output_type": "execute_result",
          "data": {
            "text/plain": [
              "array([[ 3.    , 22.    ,  1.    ,  0.    ,  7.25  ],\n",
              "       [ 1.    , 38.    ,  1.    ,  0.    , 71.2833],\n",
              "       [ 3.    , 26.    ,  0.    ,  0.    ,  7.925 ],\n",
              "       ...,\n",
              "       [ 3.    , 28.    ,  1.    ,  2.    , 23.45  ],\n",
              "       [ 1.    , 26.    ,  0.    ,  0.    , 30.    ],\n",
              "       [ 3.    , 32.    ,  0.    ,  0.    ,  7.75  ]])"
            ]
          },
          "metadata": {},
          "execution_count": 9
        }
      ],
      "source": [
        "#colocando o valor da mediana das idades nos valores que sao nulos\n",
        "from sklearn.impute import SimpleImputer\n",
        "imputer = SimpleImputer(strategy='median')\n",
        "XnumLimpo = imputer.fit_transform(Xnum)\n",
        "XnumLimpo"
      ]
    },
    {
      "cell_type": "code",
      "execution_count": null,
      "metadata": {
        "id": "cqjqaS8tt8ER",
        "colab": {
          "base_uri": "https://localhost:8080/"
        },
        "outputId": "9bdd8a49-39bc-4def-bf2a-42d560040b99"
      },
      "outputs": [
        {
          "output_type": "execute_result",
          "data": {
            "text/plain": [
              "Index(['Sex', 'Embarked'], dtype='object')"
            ]
          },
          "metadata": {},
          "execution_count": 10
        }
      ],
      "source": [
        "#tratando os atributos categorios\n",
        "Xcat = Xdrop.select_dtypes('object')\n",
        "Xcat.columns"
      ]
    },
    {
      "cell_type": "code",
      "execution_count": null,
      "metadata": {
        "id": "Oh_4kdrbuP4E",
        "colab": {
          "base_uri": "https://localhost:8080/"
        },
        "outputId": "0fa77bc4-963b-414b-9bb7-aa9e507c1123"
      },
      "outputs": [
        {
          "output_type": "stream",
          "name": "stdout",
          "text": [
            "         Sex 0\n",
            "    Embarked 2\n"
          ]
        }
      ],
      "source": [
        "#procurando se tem alguma caracteristica inválida\n",
        "for column in Xcat.columns:\n",
        "    print(f'{column:>12} {sum(Xcat[column].isnull())}')"
      ]
    },
    {
      "cell_type": "code",
      "execution_count": null,
      "metadata": {
        "id": "h_IWR67buwgp",
        "colab": {
          "base_uri": "https://localhost:8080/"
        },
        "outputId": "59b8fbde-a451-4385-86d7-60297542e696"
      },
      "outputs": [
        {
          "output_type": "execute_result",
          "data": {
            "text/plain": [
              "array([['male', 'S'],\n",
              "       ['female', 'C'],\n",
              "       ['female', 'S'],\n",
              "       ...,\n",
              "       ['female', 'S'],\n",
              "       ['male', 'C'],\n",
              "       ['male', 'Q']], dtype=object)"
            ]
          },
          "metadata": {},
          "execution_count": 12
        }
      ],
      "source": [
        "from sklearn.impute import SimpleImputer\n",
        "imputer = SimpleImputer(strategy='most_frequent')\n",
        "XcatLimpo = imputer.fit_transform(Xcat)\n",
        "XcatLimpo"
      ]
    },
    {
      "cell_type": "code",
      "execution_count": null,
      "metadata": {
        "id": "U1FVhmDkvmiC",
        "colab": {
          "base_uri": "https://localhost:8080/"
        },
        "outputId": "e0ff8747-5d80-4fea-f72c-395491ec1ab7"
      },
      "outputs": [
        {
          "output_type": "execute_result",
          "data": {
            "text/plain": [
              "<891x5 sparse matrix of type '<class 'numpy.float64'>'\n",
              "\twith 1782 stored elements in Compressed Sparse Row format>"
            ]
          },
          "metadata": {},
          "execution_count": 13
        }
      ],
      "source": [
        "from sklearn.preprocessing import OneHotEncoder\n",
        "encoder = OneHotEncoder()\n",
        "XcatHot = encoder.fit_transform(XcatLimpo)\n",
        "XcatHot"
      ]
    },
    {
      "cell_type": "code",
      "execution_count": null,
      "metadata": {
        "id": "fIi2wy3JwVad",
        "colab": {
          "base_uri": "https://localhost:8080/"
        },
        "outputId": "0e3a24b0-5679-465e-b76d-a76f2585092c"
      },
      "outputs": [
        {
          "output_type": "execute_result",
          "data": {
            "text/plain": [
              "array([[0., 1., 0., 0., 1.],\n",
              "       [1., 0., 1., 0., 0.],\n",
              "       [1., 0., 0., 0., 1.],\n",
              "       ...,\n",
              "       [1., 0., 0., 0., 1.],\n",
              "       [0., 1., 1., 0., 0.],\n",
              "       [0., 1., 0., 1., 0.]])"
            ]
          },
          "metadata": {},
          "execution_count": 14
        }
      ],
      "source": [
        "XcatHot.toarray()"
      ]
    },
    {
      "cell_type": "code",
      "execution_count": null,
      "metadata": {
        "id": "kGDaGdEkv7Bq",
        "colab": {
          "base_uri": "https://localhost:8080/"
        },
        "outputId": "2fc4b709-3cc5-45d4-9700-72a26f810ed3"
      },
      "outputs": [
        {
          "output_type": "execute_result",
          "data": {
            "text/plain": [
              "(891, 10)"
            ]
          },
          "metadata": {},
          "execution_count": 15
        }
      ],
      "source": [
        "import numpy as np\n",
        "Xtratado = np.c_[XnumLimpo, XcatHot.toarray()]\n",
        "Xtratado.shape"
      ]
    },
    {
      "cell_type": "code",
      "execution_count": null,
      "metadata": {
        "id": "e7qtbK1AwuOT",
        "colab": {
          "base_uri": "https://localhost:8080/"
        },
        "outputId": "c642e18c-2c93-4db3-f694-037f5efebfb5"
      },
      "outputs": [
        {
          "output_type": "execute_result",
          "data": {
            "text/plain": [
              "array([[ 3., 22.,  1., ...,  0.,  0.,  1.],\n",
              "       [ 1., 38.,  1., ...,  1.,  0.,  0.],\n",
              "       [ 3., 26.,  0., ...,  0.,  0.,  1.],\n",
              "       ...,\n",
              "       [ 3., 28.,  1., ...,  0.,  0.,  1.],\n",
              "       [ 1., 26.,  0., ...,  1.,  0.,  0.],\n",
              "       [ 3., 32.,  0., ...,  0.,  1.,  0.]])"
            ]
          },
          "metadata": {},
          "execution_count": 16
        }
      ],
      "source": [
        "Xtratado"
      ]
    },
    {
      "cell_type": "code",
      "execution_count": null,
      "metadata": {
        "id": "I7su-AIOww2x",
        "colab": {
          "base_uri": "https://localhost:8080/"
        },
        "outputId": "c87b926b-d34c-4681-8725-749666b904ef"
      },
      "outputs": [
        {
          "output_type": "execute_result",
          "data": {
            "text/plain": [
              "array([ True, False,  True,  True,  True,  True,  True,  True,  True,\n",
              "        True,  True,  True])"
            ]
          },
          "metadata": {},
          "execution_count": 17
        }
      ],
      "source": [
        "import pandas as pd\n",
        "train = pd.read_csv('train.csv')\n",
        "test = pd.read_csv('test.csv')\n",
        "train.columns.isin(test.columns)"
      ]
    },
    {
      "cell_type": "code",
      "execution_count": null,
      "metadata": {
        "id": "Vfx0MV6exVbv",
        "colab": {
          "base_uri": "https://localhost:8080/"
        },
        "outputId": "34e7b499-fb21-4dfc-9640-db3ada7fdfd8"
      },
      "outputs": [
        {
          "output_type": "execute_result",
          "data": {
            "text/plain": [
              "Index(['Survived'], dtype='object')"
            ]
          },
          "metadata": {},
          "execution_count": 18
        }
      ],
      "source": [
        "train.columns[~train.columns.isin(test.columns)]"
      ]
    },
    {
      "cell_type": "code",
      "execution_count": null,
      "metadata": {
        "id": "_js4VeeLxfje",
        "colab": {
          "base_uri": "https://localhost:8080/"
        },
        "outputId": "0aa7353c-5c55-4c8e-a5e9-fc9c281889f5"
      },
      "outputs": [
        {
          "output_type": "execute_result",
          "data": {
            "text/plain": [
              "Index(['Pclass', 'Sex', 'Age', 'SibSp', 'Parch', 'Fare', 'Embarked'], dtype='object')"
            ]
          },
          "metadata": {},
          "execution_count": 19
        }
      ],
      "source": [
        "from sklearn.base import BaseEstimator, TransformerMixin\n",
        "\n",
        "class AtributosDesejados (BaseEstimator, TransformerMixin):\n",
        "    def fit (self, X, y=None):\n",
        "        self.colunasIndesejadas_ = ['PassengerId', 'Name','Ticket','Cabin']\n",
        "        return self\n",
        "    def transform(self, X, y=None):\n",
        "        return X.drop(self.colunasIndesejadas_, axis=1)\n",
        "\n",
        "\n",
        "atributosDesejados = AtributosDesejados()\n",
        "Xdrop =  atributosDesejados.fit_transform(X)\n",
        "Xdrop.columns"
      ]
    },
    {
      "cell_type": "code",
      "execution_count": null,
      "metadata": {
        "id": "VfBuOnxNzgMb",
        "colab": {
          "base_uri": "https://localhost:8080/"
        },
        "outputId": "41d69e0a-8bdf-4dd3-cfbc-ec908e428045"
      },
      "outputs": [
        {
          "output_type": "execute_result",
          "data": {
            "text/plain": [
              "Index(['Pclass', 'Age', 'SibSp', 'Parch', 'Fare'], dtype='object')"
            ]
          },
          "metadata": {},
          "execution_count": 20
        }
      ],
      "source": [
        "#separar o q é categorico de numérico\n",
        "from sklearn.base  import  BaseEstimator, TransformerMixin\n",
        "\n",
        "class AtributosNumericos (BaseEstimator, TransformerMixin):\n",
        "    def fit(self, X, y=None):\n",
        "        self.colunasNumericas = X.select_dtypes(include='number').columns\n",
        "        return self\n",
        "\n",
        "    def transform(self, X, y=None):\n",
        "        return X[self.colunasNumericas]\n",
        "\n",
        "atributosNumericos = AtributosNumericos()\n",
        "Xnum = atributosNumericos.fit_transform(Xdrop)\n",
        "Xnum.columns\n"
      ]
    },
    {
      "cell_type": "code",
      "execution_count": null,
      "metadata": {
        "id": "-uf5Lmls0whF",
        "colab": {
          "base_uri": "https://localhost:8080/"
        },
        "outputId": "b0795099-afa2-4278-edb5-ddd45043d080"
      },
      "outputs": [
        {
          "output_type": "execute_result",
          "data": {
            "text/plain": [
              "array([[ 0.82737724, -0.56573646,  0.43279337, -0.47367361, -0.50244517],\n",
              "       [-1.56610693,  0.66386103,  0.43279337, -0.47367361,  0.78684529],\n",
              "       [ 0.82737724, -0.25833709, -0.4745452 , -0.47367361, -0.48885426],\n",
              "       ...,\n",
              "       [ 0.82737724, -0.1046374 ,  0.43279337,  2.00893337, -0.17626324],\n",
              "       [-1.56610693, -0.25833709, -0.4745452 , -0.47367361, -0.04438104],\n",
              "       [ 0.82737724,  0.20276197, -0.4745452 , -0.47367361, -0.49237783]])"
            ]
          },
          "metadata": {},
          "execution_count": 21
        }
      ],
      "source": [
        "from sklearn.pipeline import Pipeline\n",
        "from sklearn.impute import SimpleImputer\n",
        "from sklearn.preprocessing import StandardScaler\n",
        "\n",
        "pipeline = Pipeline([\n",
        "    ('atributos_numericos', AtributosNumericos()),\n",
        "    ('imputer', SimpleImputer(strategy=\"median\")),\n",
        "    ('scaler', StandardScaler())\n",
        "])\n",
        "\n",
        "XnumLimpo = pipeline.fit_transform(Xdrop)\n",
        "XnumLimpo"
      ]
    },
    {
      "cell_type": "code",
      "execution_count": null,
      "metadata": {
        "id": "TXqPVpFi2SRG",
        "colab": {
          "base_uri": "https://localhost:8080/"
        },
        "outputId": "b6f45d2a-626e-4802-da43-bba482d492c0"
      },
      "outputs": [
        {
          "output_type": "execute_result",
          "data": {
            "text/plain": [
              "Index(['Sex', 'Embarked'], dtype='object')"
            ]
          },
          "metadata": {},
          "execution_count": 22
        }
      ],
      "source": [
        "from sklearn.base  import BaseEstimator,TransformerMixin\n",
        "\n",
        "class AtributosCategoricos(BaseEstimator, TransformerMixin):\n",
        "    def fit(self, X, y=None):\n",
        "        self.colunasCategoricas = X.select_dtypes(include='object').columns\n",
        "        return self\n",
        "\n",
        "    def transform(self, X, y=None):\n",
        "        return X[self.colunasCategoricas]\n",
        "\n",
        "atributosCategoricos = AtributosCategoricos()\n",
        "Xcat= atributosCategoricos.fit_transform(Xdrop)\n",
        "Xcat.columns"
      ]
    },
    {
      "cell_type": "code",
      "execution_count": null,
      "metadata": {
        "id": "oFHpknf7FQl7",
        "colab": {
          "base_uri": "https://localhost:8080/"
        },
        "outputId": "f574eb42-4bd0-4d19-d05e-6d8698565300"
      },
      "outputs": [
        {
          "output_type": "execute_result",
          "data": {
            "text/plain": [
              "array([[0., 1., 0., 0., 1.],\n",
              "       [1., 0., 1., 0., 0.],\n",
              "       [1., 0., 0., 0., 1.],\n",
              "       ...,\n",
              "       [1., 0., 0., 0., 1.],\n",
              "       [0., 1., 1., 0., 0.],\n",
              "       [0., 1., 0., 1., 0.]])"
            ]
          },
          "metadata": {},
          "execution_count": 23
        }
      ],
      "source": [
        "from sklearn.pipeline import Pipeline\n",
        "from sklearn.impute import SimpleImputer\n",
        "from sklearn.preprocessing import OneHotEncoder\n",
        "\n",
        "pipecat = Pipeline([\n",
        "    ('atributos_categoricos', AtributosCategoricos()),\n",
        "    ('imputer', SimpleImputer(strategy='most_frequent')),\n",
        "    ('encoder', OneHotEncoder())\n",
        "])\n",
        "\n",
        "XcatLimpo = pipecat.fit_transform(Xdrop)\n",
        "XcatLimpo.toarray()"
      ]
    },
    {
      "cell_type": "code",
      "execution_count": null,
      "metadata": {
        "id": "UWsAoNeaFb2T",
        "colab": {
          "base_uri": "https://localhost:8080/"
        },
        "outputId": "c719dc3a-da35-4af3-81df-4a9f264f7c44"
      },
      "outputs": [
        {
          "output_type": "execute_result",
          "data": {
            "text/plain": [
              "array([[ 0.82737724, -0.56573646,  0.43279337, ...,  0.        ,\n",
              "         0.        ,  1.        ],\n",
              "       [-1.56610693,  0.66386103,  0.43279337, ...,  1.        ,\n",
              "         0.        ,  0.        ],\n",
              "       [ 0.82737724, -0.25833709, -0.4745452 , ...,  0.        ,\n",
              "         0.        ,  1.        ],\n",
              "       ...,\n",
              "       [ 0.82737724, -0.1046374 ,  0.43279337, ...,  0.        ,\n",
              "         0.        ,  1.        ],\n",
              "       [-1.56610693, -0.25833709, -0.4745452 , ...,  1.        ,\n",
              "         0.        ,  0.        ],\n",
              "       [ 0.82737724,  0.20276197, -0.4745452 , ...,  0.        ,\n",
              "         1.        ,  0.        ]])"
            ]
          },
          "metadata": {},
          "execution_count": 24
        }
      ],
      "source": [
        "from sklearn.pipeline import FeatureUnion\n",
        "\n",
        "unecaracteristicas = FeatureUnion([\n",
        "    ('pipeline', pipeline),\n",
        "    ('pipecat', pipecat)\n",
        "])\n",
        "\n",
        "Xtratado = unecaracteristicas.fit_transform(Xdrop)\n",
        "Xtratado.toarray()"
      ]
    },
    {
      "cell_type": "code",
      "source": [
        "from sklearn.pipeline import Pipeline\n",
        "\n",
        "preproc = Pipeline([\n",
        "    ('atributos_desejados', AtributosDesejados()),\n",
        "    ('unecaracteristicas', unecaracteristicas)\n",
        "])\n",
        "\n",
        "Xtratado = preproc.fit_transform(X)\n",
        "Xtratado.toarray()"
      ],
      "metadata": {
        "id": "0G-zuL-b56uQ",
        "colab": {
          "base_uri": "https://localhost:8080/"
        },
        "outputId": "1f3635ba-2f6b-41ba-995d-5eb3792cfeb5"
      },
      "execution_count": null,
      "outputs": [
        {
          "output_type": "execute_result",
          "data": {
            "text/plain": [
              "array([[ 0.82737724, -0.56573646,  0.43279337, ...,  0.        ,\n",
              "         0.        ,  1.        ],\n",
              "       [-1.56610693,  0.66386103,  0.43279337, ...,  1.        ,\n",
              "         0.        ,  0.        ],\n",
              "       [ 0.82737724, -0.25833709, -0.4745452 , ...,  0.        ,\n",
              "         0.        ,  1.        ],\n",
              "       ...,\n",
              "       [ 0.82737724, -0.1046374 ,  0.43279337, ...,  0.        ,\n",
              "         0.        ,  1.        ],\n",
              "       [-1.56610693, -0.25833709, -0.4745452 , ...,  1.        ,\n",
              "         0.        ,  0.        ],\n",
              "       [ 0.82737724,  0.20276197, -0.4745452 , ...,  0.        ,\n",
              "         1.        ,  0.        ]])"
            ]
          },
          "metadata": {},
          "execution_count": 25
        }
      ]
    },
    {
      "cell_type": "code",
      "execution_count": null,
      "metadata": {
        "id": "UiE59UvOFn4Z",
        "colab": {
          "base_uri": "https://localhost:8080/"
        },
        "outputId": "c4ae9b10-302e-4fb0-b50b-f02c2bc42e7f"
      },
      "outputs": [
        {
          "output_type": "execute_result",
          "data": {
            "text/plain": [
              "array([[ 0.82737724, -0.56573646,  0.43279337, ...,  0.        ,\n",
              "         0.        ,  1.        ],\n",
              "       [-1.56610693,  0.66386103,  0.43279337, ...,  1.        ,\n",
              "         0.        ,  0.        ],\n",
              "       [ 0.82737724, -0.25833709, -0.4745452 , ...,  0.        ,\n",
              "         0.        ,  1.        ],\n",
              "       ...,\n",
              "       [ 0.82737724, -0.1046374 ,  0.43279337, ...,  0.        ,\n",
              "         0.        ,  1.        ],\n",
              "       [-1.56610693, -0.25833709, -0.4745452 , ...,  1.        ,\n",
              "         0.        ,  0.        ],\n",
              "       [ 0.82737724,  0.20276197, -0.4745452 , ...,  0.        ,\n",
              "         1.        ,  0.        ]])"
            ]
          },
          "metadata": {},
          "execution_count": 26
        }
      ],
      "source": [
        "from sklearn.pipeline import Pipeline\n",
        "\n",
        "preproc = Pipeline([\n",
        "    ('atributos_desejados', AtributosDesejados()),\n",
        "    ('unecaracteristicas', unecaracteristicas)\n",
        "])\n",
        "\n",
        "Xtratado = preproc.fit_transform(X)\n",
        "Xtratado.toarray()"
      ]
    },
    {
      "cell_type": "code",
      "execution_count": null,
      "metadata": {
        "id": "A2Ieo2RTFrHn",
        "colab": {
          "base_uri": "https://localhost:8080/"
        },
        "outputId": "6067a2be-8b74-4089-9a75-66a9ae849bef"
      },
      "outputs": [
        {
          "output_type": "execute_result",
          "data": {
            "text/plain": [
              "0.9797979797979798"
            ]
          },
          "metadata": {},
          "execution_count": 27
        }
      ],
      "source": [
        "from sklearn.tree import DecisionTreeClassifier\n",
        "from sklearn.metrics import accuracy_score\n",
        "\n",
        "pipetotal = Pipeline([\n",
        "    ('preproc', preproc),\n",
        "    ('arvore', DecisionTreeClassifier())\n",
        "])\n",
        "\n",
        "pipetotal.fit(X, y)\n",
        "ypred = pipetotal.predict(X)\n",
        "accuracy_score(y, ypred)"
      ]
    },
    {
      "cell_type": "code",
      "execution_count": null,
      "metadata": {
        "id": "AwEhqkHhFtcy",
        "colab": {
          "base_uri": "https://localhost:8080/"
        },
        "outputId": "51d832ef-99d4-41c5-92c9-b9f5dd574b6b"
      },
      "outputs": [
        {
          "output_type": "execute_result",
          "data": {
            "text/plain": [
              "({'fit_time': array([0.02391148, 0.02680635, 0.02826524, 0.02150607, 0.02165961]),\n",
              "  'score_time': array([0.00854707, 0.01102042, 0.00938272, 0.00855517, 0.00836349]),\n",
              "  'test_score': array([0.73743017, 0.79213483, 0.80337079, 0.73595506, 0.8258427 ])},\n",
              " 0.7789467076768565)"
            ]
          },
          "metadata": {},
          "execution_count": 28
        }
      ],
      "source": [
        "import numpy as np\n",
        "from sklearn.model_selection import cross_validate\n",
        "\n",
        "scores = cross_validate(pipetotal, X, y)\n",
        "scores, np.mean(scores['test_score'])"
      ]
    },
    {
      "cell_type": "code",
      "execution_count": null,
      "metadata": {
        "id": "-MMZagcaIdJZ"
      },
      "outputs": [],
      "source": [
        "pipetotal.fit(X, y)\n",
        "ypred = pipetotal.predict(test)\n",
        "\n",
        "submission = pd.read_csv('gender_submission.csv')\n",
        "submission['Survived'] = ypred\n",
        "submission.to_csv('tree_submission.csv', index=False)"
      ]
    },
    {
      "cell_type": "code",
      "execution_count": null,
      "metadata": {
        "id": "VGzwSb_HIdvH",
        "colab": {
          "base_uri": "https://localhost:8080/"
        },
        "outputId": "2a15fb05-600f-4a77-fe0f-474675dc67c5"
      },
      "outputs": [
        {
          "output_type": "execute_result",
          "data": {
            "text/plain": [
              "({'fit_time': array([2.83164096, 1.9427588 , 1.87181306, 2.10618758, 1.85180783]),\n",
              "  'score_time': array([0.00782084, 0.00540614, 0.00551033, 0.00548387, 0.00553465]),\n",
              "  'test_score': array([0.81564246, 0.82022472, 0.81460674, 0.78089888, 0.85393258])},\n",
              " 0.8170610758897746)"
            ]
          },
          "metadata": {},
          "execution_count": 30
        }
      ],
      "source": [
        "from sklearn.model_selection import GridSearchCV\n",
        "\n",
        "parametros = {\n",
        "    'arvore__max_depth': [None, 1, 3, 5, 7, 9],\n",
        "    'preproc__unecaracteristicas__pipeline__imputer__strategy': ['mean', 'median', 'most_frequent']\n",
        "}\n",
        "\n",
        "modelo = GridSearchCV(pipetotal, param_grid=parametros)\n",
        "\n",
        "scores = cross_validate(modelo, X, y)\n",
        "scores, np.mean(scores['test_score'])"
      ]
    },
    {
      "cell_type": "code",
      "execution_count": null,
      "metadata": {
        "id": "R78LmfLZIvFA",
        "colab": {
          "base_uri": "https://localhost:8080/",
          "height": 311
        },
        "outputId": "a58a34b9-a245-4d60-a146-146d3b830055"
      },
      "outputs": [
        {
          "output_type": "execute_result",
          "data": {
            "text/plain": [
              "Pipeline(steps=[('preproc',\n",
              "                 Pipeline(steps=[('atributos_desejados', AtributosDesejados()),\n",
              "                                 ('unecaracteristicas',\n",
              "                                  FeatureUnion(transformer_list=[('pipeline',\n",
              "                                                                  Pipeline(steps=[('atributos_numericos',\n",
              "                                                                                   AtributosNumericos()),\n",
              "                                                                                  ('imputer',\n",
              "                                                                                   SimpleImputer(strategy='most_frequent')),\n",
              "                                                                                  ('scaler',\n",
              "                                                                                   StandardScaler())])),\n",
              "                                                                 ('pipecat',\n",
              "                                                                  Pipeline(steps=[('atributos_categoricos',\n",
              "                                                                                   AtributosCategoricos()),\n",
              "                                                                                  ('imputer',\n",
              "                                                                                   SimpleImputer(strategy='most_frequent')),\n",
              "                                                                                  ('encoder',\n",
              "                                                                                   OneHotEncoder())]))]))])),\n",
              "                ('arvore', DecisionTreeClassifier(max_depth=9))])"
            ],
            "text/html": [
              "<style>#sk-container-id-1 {color: black;background-color: white;}#sk-container-id-1 pre{padding: 0;}#sk-container-id-1 div.sk-toggleable {background-color: white;}#sk-container-id-1 label.sk-toggleable__label {cursor: pointer;display: block;width: 100%;margin-bottom: 0;padding: 0.3em;box-sizing: border-box;text-align: center;}#sk-container-id-1 label.sk-toggleable__label-arrow:before {content: \"▸\";float: left;margin-right: 0.25em;color: #696969;}#sk-container-id-1 label.sk-toggleable__label-arrow:hover:before {color: black;}#sk-container-id-1 div.sk-estimator:hover label.sk-toggleable__label-arrow:before {color: black;}#sk-container-id-1 div.sk-toggleable__content {max-height: 0;max-width: 0;overflow: hidden;text-align: left;background-color: #f0f8ff;}#sk-container-id-1 div.sk-toggleable__content pre {margin: 0.2em;color: black;border-radius: 0.25em;background-color: #f0f8ff;}#sk-container-id-1 input.sk-toggleable__control:checked~div.sk-toggleable__content {max-height: 200px;max-width: 100%;overflow: auto;}#sk-container-id-1 input.sk-toggleable__control:checked~label.sk-toggleable__label-arrow:before {content: \"▾\";}#sk-container-id-1 div.sk-estimator input.sk-toggleable__control:checked~label.sk-toggleable__label {background-color: #d4ebff;}#sk-container-id-1 div.sk-label input.sk-toggleable__control:checked~label.sk-toggleable__label {background-color: #d4ebff;}#sk-container-id-1 input.sk-hidden--visually {border: 0;clip: rect(1px 1px 1px 1px);clip: rect(1px, 1px, 1px, 1px);height: 1px;margin: -1px;overflow: hidden;padding: 0;position: absolute;width: 1px;}#sk-container-id-1 div.sk-estimator {font-family: monospace;background-color: #f0f8ff;border: 1px dotted black;border-radius: 0.25em;box-sizing: border-box;margin-bottom: 0.5em;}#sk-container-id-1 div.sk-estimator:hover {background-color: #d4ebff;}#sk-container-id-1 div.sk-parallel-item::after {content: \"\";width: 100%;border-bottom: 1px solid gray;flex-grow: 1;}#sk-container-id-1 div.sk-label:hover label.sk-toggleable__label {background-color: #d4ebff;}#sk-container-id-1 div.sk-serial::before {content: \"\";position: absolute;border-left: 1px solid gray;box-sizing: border-box;top: 0;bottom: 0;left: 50%;z-index: 0;}#sk-container-id-1 div.sk-serial {display: flex;flex-direction: column;align-items: center;background-color: white;padding-right: 0.2em;padding-left: 0.2em;position: relative;}#sk-container-id-1 div.sk-item {position: relative;z-index: 1;}#sk-container-id-1 div.sk-parallel {display: flex;align-items: stretch;justify-content: center;background-color: white;position: relative;}#sk-container-id-1 div.sk-item::before, #sk-container-id-1 div.sk-parallel-item::before {content: \"\";position: absolute;border-left: 1px solid gray;box-sizing: border-box;top: 0;bottom: 0;left: 50%;z-index: -1;}#sk-container-id-1 div.sk-parallel-item {display: flex;flex-direction: column;z-index: 1;position: relative;background-color: white;}#sk-container-id-1 div.sk-parallel-item:first-child::after {align-self: flex-end;width: 50%;}#sk-container-id-1 div.sk-parallel-item:last-child::after {align-self: flex-start;width: 50%;}#sk-container-id-1 div.sk-parallel-item:only-child::after {width: 0;}#sk-container-id-1 div.sk-dashed-wrapped {border: 1px dashed gray;margin: 0 0.4em 0.5em 0.4em;box-sizing: border-box;padding-bottom: 0.4em;background-color: white;}#sk-container-id-1 div.sk-label label {font-family: monospace;font-weight: bold;display: inline-block;line-height: 1.2em;}#sk-container-id-1 div.sk-label-container {text-align: center;}#sk-container-id-1 div.sk-container {/* jupyter's `normalize.less` sets `[hidden] { display: none; }` but bootstrap.min.css set `[hidden] { display: none !important; }` so we also need the `!important` here to be able to override the default hidden behavior on the sphinx rendered scikit-learn.org. See: https://github.com/scikit-learn/scikit-learn/issues/21755 */display: inline-block !important;position: relative;}#sk-container-id-1 div.sk-text-repr-fallback {display: none;}</style><div id=\"sk-container-id-1\" class=\"sk-top-container\"><div class=\"sk-text-repr-fallback\"><pre>Pipeline(steps=[(&#x27;preproc&#x27;,\n",
              "                 Pipeline(steps=[(&#x27;atributos_desejados&#x27;, AtributosDesejados()),\n",
              "                                 (&#x27;unecaracteristicas&#x27;,\n",
              "                                  FeatureUnion(transformer_list=[(&#x27;pipeline&#x27;,\n",
              "                                                                  Pipeline(steps=[(&#x27;atributos_numericos&#x27;,\n",
              "                                                                                   AtributosNumericos()),\n",
              "                                                                                  (&#x27;imputer&#x27;,\n",
              "                                                                                   SimpleImputer(strategy=&#x27;most_frequent&#x27;)),\n",
              "                                                                                  (&#x27;scaler&#x27;,\n",
              "                                                                                   StandardScaler())])),\n",
              "                                                                 (&#x27;pipecat&#x27;,\n",
              "                                                                  Pipeline(steps=[(&#x27;atributos_categoricos&#x27;,\n",
              "                                                                                   AtributosCategoricos()),\n",
              "                                                                                  (&#x27;imputer&#x27;,\n",
              "                                                                                   SimpleImputer(strategy=&#x27;most_frequent&#x27;)),\n",
              "                                                                                  (&#x27;encoder&#x27;,\n",
              "                                                                                   OneHotEncoder())]))]))])),\n",
              "                (&#x27;arvore&#x27;, DecisionTreeClassifier(max_depth=9))])</pre><b>In a Jupyter environment, please rerun this cell to show the HTML representation or trust the notebook. <br />On GitHub, the HTML representation is unable to render, please try loading this page with nbviewer.org.</b></div><div class=\"sk-container\" hidden><div class=\"sk-item sk-dashed-wrapped\"><div class=\"sk-label-container\"><div class=\"sk-label sk-toggleable\"><input class=\"sk-toggleable__control sk-hidden--visually\" id=\"sk-estimator-id-1\" type=\"checkbox\" ><label for=\"sk-estimator-id-1\" class=\"sk-toggleable__label sk-toggleable__label-arrow\">Pipeline</label><div class=\"sk-toggleable__content\"><pre>Pipeline(steps=[(&#x27;preproc&#x27;,\n",
              "                 Pipeline(steps=[(&#x27;atributos_desejados&#x27;, AtributosDesejados()),\n",
              "                                 (&#x27;unecaracteristicas&#x27;,\n",
              "                                  FeatureUnion(transformer_list=[(&#x27;pipeline&#x27;,\n",
              "                                                                  Pipeline(steps=[(&#x27;atributos_numericos&#x27;,\n",
              "                                                                                   AtributosNumericos()),\n",
              "                                                                                  (&#x27;imputer&#x27;,\n",
              "                                                                                   SimpleImputer(strategy=&#x27;most_frequent&#x27;)),\n",
              "                                                                                  (&#x27;scaler&#x27;,\n",
              "                                                                                   StandardScaler())])),\n",
              "                                                                 (&#x27;pipecat&#x27;,\n",
              "                                                                  Pipeline(steps=[(&#x27;atributos_categoricos&#x27;,\n",
              "                                                                                   AtributosCategoricos()),\n",
              "                                                                                  (&#x27;imputer&#x27;,\n",
              "                                                                                   SimpleImputer(strategy=&#x27;most_frequent&#x27;)),\n",
              "                                                                                  (&#x27;encoder&#x27;,\n",
              "                                                                                   OneHotEncoder())]))]))])),\n",
              "                (&#x27;arvore&#x27;, DecisionTreeClassifier(max_depth=9))])</pre></div></div></div><div class=\"sk-serial\"><div class=\"sk-item\"><div class=\"sk-label-container\"><div class=\"sk-label sk-toggleable\"><input class=\"sk-toggleable__control sk-hidden--visually\" id=\"sk-estimator-id-2\" type=\"checkbox\" ><label for=\"sk-estimator-id-2\" class=\"sk-toggleable__label sk-toggleable__label-arrow\">preproc: Pipeline</label><div class=\"sk-toggleable__content\"><pre>Pipeline(steps=[(&#x27;atributos_desejados&#x27;, AtributosDesejados()),\n",
              "                (&#x27;unecaracteristicas&#x27;,\n",
              "                 FeatureUnion(transformer_list=[(&#x27;pipeline&#x27;,\n",
              "                                                 Pipeline(steps=[(&#x27;atributos_numericos&#x27;,\n",
              "                                                                  AtributosNumericos()),\n",
              "                                                                 (&#x27;imputer&#x27;,\n",
              "                                                                  SimpleImputer(strategy=&#x27;most_frequent&#x27;)),\n",
              "                                                                 (&#x27;scaler&#x27;,\n",
              "                                                                  StandardScaler())])),\n",
              "                                                (&#x27;pipecat&#x27;,\n",
              "                                                 Pipeline(steps=[(&#x27;atributos_categoricos&#x27;,\n",
              "                                                                  AtributosCategoricos()),\n",
              "                                                                 (&#x27;imputer&#x27;,\n",
              "                                                                  SimpleImputer(strategy=&#x27;most_frequent&#x27;)),\n",
              "                                                                 (&#x27;encoder&#x27;,\n",
              "                                                                  OneHotEncoder())]))]))])</pre></div></div></div><div class=\"sk-serial\"><div class=\"sk-item\"><div class=\"sk-estimator sk-toggleable\"><input class=\"sk-toggleable__control sk-hidden--visually\" id=\"sk-estimator-id-3\" type=\"checkbox\" ><label for=\"sk-estimator-id-3\" class=\"sk-toggleable__label sk-toggleable__label-arrow\">AtributosDesejados</label><div class=\"sk-toggleable__content\"><pre>AtributosDesejados()</pre></div></div></div><div class=\"sk-item sk-dashed-wrapped\"><div class=\"sk-label-container\"><div class=\"sk-label sk-toggleable\"><input class=\"sk-toggleable__control sk-hidden--visually\" id=\"sk-estimator-id-4\" type=\"checkbox\" ><label for=\"sk-estimator-id-4\" class=\"sk-toggleable__label sk-toggleable__label-arrow\">unecaracteristicas: FeatureUnion</label><div class=\"sk-toggleable__content\"><pre>FeatureUnion(transformer_list=[(&#x27;pipeline&#x27;,\n",
              "                                Pipeline(steps=[(&#x27;atributos_numericos&#x27;,\n",
              "                                                 AtributosNumericos()),\n",
              "                                                (&#x27;imputer&#x27;,\n",
              "                                                 SimpleImputer(strategy=&#x27;most_frequent&#x27;)),\n",
              "                                                (&#x27;scaler&#x27;, StandardScaler())])),\n",
              "                               (&#x27;pipecat&#x27;,\n",
              "                                Pipeline(steps=[(&#x27;atributos_categoricos&#x27;,\n",
              "                                                 AtributosCategoricos()),\n",
              "                                                (&#x27;imputer&#x27;,\n",
              "                                                 SimpleImputer(strategy=&#x27;most_frequent&#x27;)),\n",
              "                                                (&#x27;encoder&#x27;,\n",
              "                                                 OneHotEncoder())]))])</pre></div></div></div><div class=\"sk-parallel\"><div class=\"sk-parallel-item\"><div class=\"sk-item\"><div class=\"sk-label-container\"><div class=\"sk-label sk-toggleable\"><label>pipeline</label></div></div><div class=\"sk-serial\"><div class=\"sk-item\"><div class=\"sk-serial\"><div class=\"sk-item\"><div class=\"sk-estimator sk-toggleable\"><input class=\"sk-toggleable__control sk-hidden--visually\" id=\"sk-estimator-id-5\" type=\"checkbox\" ><label for=\"sk-estimator-id-5\" class=\"sk-toggleable__label sk-toggleable__label-arrow\">AtributosNumericos</label><div class=\"sk-toggleable__content\"><pre>AtributosNumericos()</pre></div></div></div><div class=\"sk-item\"><div class=\"sk-estimator sk-toggleable\"><input class=\"sk-toggleable__control sk-hidden--visually\" id=\"sk-estimator-id-6\" type=\"checkbox\" ><label for=\"sk-estimator-id-6\" class=\"sk-toggleable__label sk-toggleable__label-arrow\">SimpleImputer</label><div class=\"sk-toggleable__content\"><pre>SimpleImputer(strategy=&#x27;most_frequent&#x27;)</pre></div></div></div><div class=\"sk-item\"><div class=\"sk-estimator sk-toggleable\"><input class=\"sk-toggleable__control sk-hidden--visually\" id=\"sk-estimator-id-7\" type=\"checkbox\" ><label for=\"sk-estimator-id-7\" class=\"sk-toggleable__label sk-toggleable__label-arrow\">StandardScaler</label><div class=\"sk-toggleable__content\"><pre>StandardScaler()</pre></div></div></div></div></div></div></div></div><div class=\"sk-parallel-item\"><div class=\"sk-item\"><div class=\"sk-label-container\"><div class=\"sk-label sk-toggleable\"><label>pipecat</label></div></div><div class=\"sk-serial\"><div class=\"sk-item\"><div class=\"sk-serial\"><div class=\"sk-item\"><div class=\"sk-estimator sk-toggleable\"><input class=\"sk-toggleable__control sk-hidden--visually\" id=\"sk-estimator-id-8\" type=\"checkbox\" ><label for=\"sk-estimator-id-8\" class=\"sk-toggleable__label sk-toggleable__label-arrow\">AtributosCategoricos</label><div class=\"sk-toggleable__content\"><pre>AtributosCategoricos()</pre></div></div></div><div class=\"sk-item\"><div class=\"sk-estimator sk-toggleable\"><input class=\"sk-toggleable__control sk-hidden--visually\" id=\"sk-estimator-id-9\" type=\"checkbox\" ><label for=\"sk-estimator-id-9\" class=\"sk-toggleable__label sk-toggleable__label-arrow\">SimpleImputer</label><div class=\"sk-toggleable__content\"><pre>SimpleImputer(strategy=&#x27;most_frequent&#x27;)</pre></div></div></div><div class=\"sk-item\"><div class=\"sk-estimator sk-toggleable\"><input class=\"sk-toggleable__control sk-hidden--visually\" id=\"sk-estimator-id-10\" type=\"checkbox\" ><label for=\"sk-estimator-id-10\" class=\"sk-toggleable__label sk-toggleable__label-arrow\">OneHotEncoder</label><div class=\"sk-toggleable__content\"><pre>OneHotEncoder()</pre></div></div></div></div></div></div></div></div></div></div></div></div><div class=\"sk-item\"><div class=\"sk-estimator sk-toggleable\"><input class=\"sk-toggleable__control sk-hidden--visually\" id=\"sk-estimator-id-11\" type=\"checkbox\" ><label for=\"sk-estimator-id-11\" class=\"sk-toggleable__label sk-toggleable__label-arrow\">DecisionTreeClassifier</label><div class=\"sk-toggleable__content\"><pre>DecisionTreeClassifier(max_depth=9)</pre></div></div></div></div></div></div></div>"
            ]
          },
          "metadata": {},
          "execution_count": 31
        }
      ],
      "source": [
        "modelo.fit(X, y)\n",
        "modelo.best_estimator_"
      ]
    },
    {
      "cell_type": "code",
      "execution_count": null,
      "metadata": {
        "id": "KyMc6hPkI-bl"
      },
      "outputs": [],
      "source": [
        "submission = pd.read_csv('gender_submission.csv')\n",
        "ypred = modelo.predict(test)\n",
        "submission['Survived'] = ypred\n",
        "submission.to_csv('tree_gscv_submission.csv', index=False)"
      ]
    },
    {
      "cell_type": "markdown",
      "source": [
        "Usando o classificador SVC - Support Vector Classifier"
      ],
      "metadata": {
        "id": "xk-nGfN04S2F"
      }
    },
    {
      "cell_type": "code",
      "source": [
        "from sklearn.svm import SVC #importando o classificador SVM"
      ],
      "metadata": {
        "id": "8sm72Xgj4FKM"
      },
      "execution_count": null,
      "outputs": []
    },
    {
      "cell_type": "code",
      "source": [
        "pipetotal = Pipeline([\n",
        "    ('prepoc', preproc),\n",
        "    ('svm', SVC())\n",
        "]) #atualizando o pipetotal, substituindo pelo novo classificador"
      ],
      "metadata": {
        "id": "WfxPEuQ17O7z"
      },
      "execution_count": null,
      "outputs": []
    },
    {
      "cell_type": "code",
      "source": [
        "#treinando e avaliando o modelo\n",
        "pipetotal.fit(X,y)\n",
        "ypred = pipetotal.predict(X)\n",
        "accuracy_score(y, ypred)"
      ],
      "metadata": {
        "colab": {
          "base_uri": "https://localhost:8080/"
        },
        "id": "8GIc11in9fc8",
        "outputId": "beafa941-fd00-4fe7-c9e8-ea3fdfad9d3d"
      },
      "execution_count": null,
      "outputs": [
        {
          "output_type": "execute_result",
          "data": {
            "text/plain": [
              "0.8383838383838383"
            ]
          },
          "metadata": {},
          "execution_count": 35
        }
      ]
    },
    {
      "cell_type": "code",
      "source": [
        "scores = cross_validate(pipetotal, X, y)\n",
        "scores, np.mean(scores['test_score'])\n",
        "#validação cruzada e retornando a média das pontuações de desempenho da série."
      ],
      "metadata": {
        "colab": {
          "base_uri": "https://localhost:8080/"
        },
        "id": "DrEaOchf9vss",
        "outputId": "4bc24eaf-86f7-46a0-8c33-cf9fe0eed943"
      },
      "execution_count": null,
      "outputs": [
        {
          "output_type": "execute_result",
          "data": {
            "text/plain": [
              "({'fit_time': array([0.04793668, 0.04248905, 0.04034901, 0.03693962, 0.03760076]),\n",
              "  'score_time': array([0.01190352, 0.01296163, 0.01206398, 0.01181269, 0.01222157]),\n",
              "  'test_score': array([0.82681564, 0.8258427 , 0.81460674, 0.81460674, 0.85955056])},\n",
              " 0.8282844768062269)"
            ]
          },
          "metadata": {},
          "execution_count": 36
        }
      ]
    },
    {
      "cell_type": "code",
      "source": [
        "# Ajustando hiperparâmetros com GridSearchCV\n",
        "parametros_svm = {\n",
        "    'svm__C': [0.5, 1, 10],  # Exemplo de hiperparâmetros para o SVM\n",
        "    'svm__kernel': ['linear', 'rbf'],  # Exemplo de kernel para o SVM\n",
        "    'svm__gamma': ['scale', 'auto', 0.1, 1],\n",
        "    'svm__class_weight': [None, 'balanced']\n",
        "}\n",
        "\n",
        "modelo_svm = GridSearchCV(pipetotal, param_grid=parametros_svm)\n"
      ],
      "metadata": {
        "id": "1m-FfUz899kU"
      },
      "execution_count": null,
      "outputs": []
    },
    {
      "cell_type": "code",
      "source": [
        "# Realizando a validação cruzada com o modelo SVM\n",
        "scores_svm = cross_validate(modelo_svm, X, y)\n",
        "scores_svm, np.mean(scores_svm['test_score'])\n"
      ],
      "metadata": {
        "colab": {
          "base_uri": "https://localhost:8080/"
        },
        "id": "liy9l1WX-C28",
        "outputId": "ce7fcb7c-611e-4b3b-c1b2-62cec9553cb2"
      },
      "execution_count": null,
      "outputs": [
        {
          "output_type": "execute_result",
          "data": {
            "text/plain": [
              "({'fit_time': array([ 9.21553087, 10.14968872,  8.95418167,  8.48110628,  8.64056635]),\n",
              "  'score_time': array([0.00860906, 0.00793481, 0.01337266, 0.00744128, 0.01220894]),\n",
              "  'test_score': array([0.82681564, 0.8258427 , 0.81460674, 0.78651685, 0.84831461])},\n",
              " 0.8204193082669009)"
            ]
          },
          "metadata": {},
          "execution_count": 38
        }
      ]
    },
    {
      "cell_type": "code",
      "source": [
        "# Treinando o modelo SVM com os melhores hiperparâmetros\n",
        "modelo_svm.fit(X, y)\n",
        "modelo_svm.best_estimator_"
      ],
      "metadata": {
        "colab": {
          "base_uri": "https://localhost:8080/",
          "height": 311
        },
        "id": "gKKQm0gi_GP8",
        "outputId": "e9db3792-dcb9-4a9c-b737-fb3aa28a3fcc"
      },
      "execution_count": null,
      "outputs": [
        {
          "output_type": "execute_result",
          "data": {
            "text/plain": [
              "Pipeline(steps=[('prepoc',\n",
              "                 Pipeline(steps=[('atributos_desejados', AtributosDesejados()),\n",
              "                                 ('unecaracteristicas',\n",
              "                                  FeatureUnion(transformer_list=[('pipeline',\n",
              "                                                                  Pipeline(steps=[('atributos_numericos',\n",
              "                                                                                   AtributosNumericos()),\n",
              "                                                                                  ('imputer',\n",
              "                                                                                   SimpleImputer(strategy='median')),\n",
              "                                                                                  ('scaler',\n",
              "                                                                                   StandardScaler())])),\n",
              "                                                                 ('pipecat',\n",
              "                                                                  Pipeline(steps=[('atributos_categoricos',\n",
              "                                                                                   AtributosCategoricos()),\n",
              "                                                                                  ('imputer',\n",
              "                                                                                   SimpleImputer(strategy='most_frequent')),\n",
              "                                                                                  ('encoder',\n",
              "                                                                                   OneHotEncoder())]))]))])),\n",
              "                ('svm', SVC(C=1))])"
            ],
            "text/html": [
              "<style>#sk-container-id-2 {color: black;background-color: white;}#sk-container-id-2 pre{padding: 0;}#sk-container-id-2 div.sk-toggleable {background-color: white;}#sk-container-id-2 label.sk-toggleable__label {cursor: pointer;display: block;width: 100%;margin-bottom: 0;padding: 0.3em;box-sizing: border-box;text-align: center;}#sk-container-id-2 label.sk-toggleable__label-arrow:before {content: \"▸\";float: left;margin-right: 0.25em;color: #696969;}#sk-container-id-2 label.sk-toggleable__label-arrow:hover:before {color: black;}#sk-container-id-2 div.sk-estimator:hover label.sk-toggleable__label-arrow:before {color: black;}#sk-container-id-2 div.sk-toggleable__content {max-height: 0;max-width: 0;overflow: hidden;text-align: left;background-color: #f0f8ff;}#sk-container-id-2 div.sk-toggleable__content pre {margin: 0.2em;color: black;border-radius: 0.25em;background-color: #f0f8ff;}#sk-container-id-2 input.sk-toggleable__control:checked~div.sk-toggleable__content {max-height: 200px;max-width: 100%;overflow: auto;}#sk-container-id-2 input.sk-toggleable__control:checked~label.sk-toggleable__label-arrow:before {content: \"▾\";}#sk-container-id-2 div.sk-estimator input.sk-toggleable__control:checked~label.sk-toggleable__label {background-color: #d4ebff;}#sk-container-id-2 div.sk-label input.sk-toggleable__control:checked~label.sk-toggleable__label {background-color: #d4ebff;}#sk-container-id-2 input.sk-hidden--visually {border: 0;clip: rect(1px 1px 1px 1px);clip: rect(1px, 1px, 1px, 1px);height: 1px;margin: -1px;overflow: hidden;padding: 0;position: absolute;width: 1px;}#sk-container-id-2 div.sk-estimator {font-family: monospace;background-color: #f0f8ff;border: 1px dotted black;border-radius: 0.25em;box-sizing: border-box;margin-bottom: 0.5em;}#sk-container-id-2 div.sk-estimator:hover {background-color: #d4ebff;}#sk-container-id-2 div.sk-parallel-item::after {content: \"\";width: 100%;border-bottom: 1px solid gray;flex-grow: 1;}#sk-container-id-2 div.sk-label:hover label.sk-toggleable__label {background-color: #d4ebff;}#sk-container-id-2 div.sk-serial::before {content: \"\";position: absolute;border-left: 1px solid gray;box-sizing: border-box;top: 0;bottom: 0;left: 50%;z-index: 0;}#sk-container-id-2 div.sk-serial {display: flex;flex-direction: column;align-items: center;background-color: white;padding-right: 0.2em;padding-left: 0.2em;position: relative;}#sk-container-id-2 div.sk-item {position: relative;z-index: 1;}#sk-container-id-2 div.sk-parallel {display: flex;align-items: stretch;justify-content: center;background-color: white;position: relative;}#sk-container-id-2 div.sk-item::before, #sk-container-id-2 div.sk-parallel-item::before {content: \"\";position: absolute;border-left: 1px solid gray;box-sizing: border-box;top: 0;bottom: 0;left: 50%;z-index: -1;}#sk-container-id-2 div.sk-parallel-item {display: flex;flex-direction: column;z-index: 1;position: relative;background-color: white;}#sk-container-id-2 div.sk-parallel-item:first-child::after {align-self: flex-end;width: 50%;}#sk-container-id-2 div.sk-parallel-item:last-child::after {align-self: flex-start;width: 50%;}#sk-container-id-2 div.sk-parallel-item:only-child::after {width: 0;}#sk-container-id-2 div.sk-dashed-wrapped {border: 1px dashed gray;margin: 0 0.4em 0.5em 0.4em;box-sizing: border-box;padding-bottom: 0.4em;background-color: white;}#sk-container-id-2 div.sk-label label {font-family: monospace;font-weight: bold;display: inline-block;line-height: 1.2em;}#sk-container-id-2 div.sk-label-container {text-align: center;}#sk-container-id-2 div.sk-container {/* jupyter's `normalize.less` sets `[hidden] { display: none; }` but bootstrap.min.css set `[hidden] { display: none !important; }` so we also need the `!important` here to be able to override the default hidden behavior on the sphinx rendered scikit-learn.org. See: https://github.com/scikit-learn/scikit-learn/issues/21755 */display: inline-block !important;position: relative;}#sk-container-id-2 div.sk-text-repr-fallback {display: none;}</style><div id=\"sk-container-id-2\" class=\"sk-top-container\"><div class=\"sk-text-repr-fallback\"><pre>Pipeline(steps=[(&#x27;prepoc&#x27;,\n",
              "                 Pipeline(steps=[(&#x27;atributos_desejados&#x27;, AtributosDesejados()),\n",
              "                                 (&#x27;unecaracteristicas&#x27;,\n",
              "                                  FeatureUnion(transformer_list=[(&#x27;pipeline&#x27;,\n",
              "                                                                  Pipeline(steps=[(&#x27;atributos_numericos&#x27;,\n",
              "                                                                                   AtributosNumericos()),\n",
              "                                                                                  (&#x27;imputer&#x27;,\n",
              "                                                                                   SimpleImputer(strategy=&#x27;median&#x27;)),\n",
              "                                                                                  (&#x27;scaler&#x27;,\n",
              "                                                                                   StandardScaler())])),\n",
              "                                                                 (&#x27;pipecat&#x27;,\n",
              "                                                                  Pipeline(steps=[(&#x27;atributos_categoricos&#x27;,\n",
              "                                                                                   AtributosCategoricos()),\n",
              "                                                                                  (&#x27;imputer&#x27;,\n",
              "                                                                                   SimpleImputer(strategy=&#x27;most_frequent&#x27;)),\n",
              "                                                                                  (&#x27;encoder&#x27;,\n",
              "                                                                                   OneHotEncoder())]))]))])),\n",
              "                (&#x27;svm&#x27;, SVC(C=1))])</pre><b>In a Jupyter environment, please rerun this cell to show the HTML representation or trust the notebook. <br />On GitHub, the HTML representation is unable to render, please try loading this page with nbviewer.org.</b></div><div class=\"sk-container\" hidden><div class=\"sk-item sk-dashed-wrapped\"><div class=\"sk-label-container\"><div class=\"sk-label sk-toggleable\"><input class=\"sk-toggleable__control sk-hidden--visually\" id=\"sk-estimator-id-12\" type=\"checkbox\" ><label for=\"sk-estimator-id-12\" class=\"sk-toggleable__label sk-toggleable__label-arrow\">Pipeline</label><div class=\"sk-toggleable__content\"><pre>Pipeline(steps=[(&#x27;prepoc&#x27;,\n",
              "                 Pipeline(steps=[(&#x27;atributos_desejados&#x27;, AtributosDesejados()),\n",
              "                                 (&#x27;unecaracteristicas&#x27;,\n",
              "                                  FeatureUnion(transformer_list=[(&#x27;pipeline&#x27;,\n",
              "                                                                  Pipeline(steps=[(&#x27;atributos_numericos&#x27;,\n",
              "                                                                                   AtributosNumericos()),\n",
              "                                                                                  (&#x27;imputer&#x27;,\n",
              "                                                                                   SimpleImputer(strategy=&#x27;median&#x27;)),\n",
              "                                                                                  (&#x27;scaler&#x27;,\n",
              "                                                                                   StandardScaler())])),\n",
              "                                                                 (&#x27;pipecat&#x27;,\n",
              "                                                                  Pipeline(steps=[(&#x27;atributos_categoricos&#x27;,\n",
              "                                                                                   AtributosCategoricos()),\n",
              "                                                                                  (&#x27;imputer&#x27;,\n",
              "                                                                                   SimpleImputer(strategy=&#x27;most_frequent&#x27;)),\n",
              "                                                                                  (&#x27;encoder&#x27;,\n",
              "                                                                                   OneHotEncoder())]))]))])),\n",
              "                (&#x27;svm&#x27;, SVC(C=1))])</pre></div></div></div><div class=\"sk-serial\"><div class=\"sk-item\"><div class=\"sk-label-container\"><div class=\"sk-label sk-toggleable\"><input class=\"sk-toggleable__control sk-hidden--visually\" id=\"sk-estimator-id-13\" type=\"checkbox\" ><label for=\"sk-estimator-id-13\" class=\"sk-toggleable__label sk-toggleable__label-arrow\">prepoc: Pipeline</label><div class=\"sk-toggleable__content\"><pre>Pipeline(steps=[(&#x27;atributos_desejados&#x27;, AtributosDesejados()),\n",
              "                (&#x27;unecaracteristicas&#x27;,\n",
              "                 FeatureUnion(transformer_list=[(&#x27;pipeline&#x27;,\n",
              "                                                 Pipeline(steps=[(&#x27;atributos_numericos&#x27;,\n",
              "                                                                  AtributosNumericos()),\n",
              "                                                                 (&#x27;imputer&#x27;,\n",
              "                                                                  SimpleImputer(strategy=&#x27;median&#x27;)),\n",
              "                                                                 (&#x27;scaler&#x27;,\n",
              "                                                                  StandardScaler())])),\n",
              "                                                (&#x27;pipecat&#x27;,\n",
              "                                                 Pipeline(steps=[(&#x27;atributos_categoricos&#x27;,\n",
              "                                                                  AtributosCategoricos()),\n",
              "                                                                 (&#x27;imputer&#x27;,\n",
              "                                                                  SimpleImputer(strategy=&#x27;most_frequent&#x27;)),\n",
              "                                                                 (&#x27;encoder&#x27;,\n",
              "                                                                  OneHotEncoder())]))]))])</pre></div></div></div><div class=\"sk-serial\"><div class=\"sk-item\"><div class=\"sk-estimator sk-toggleable\"><input class=\"sk-toggleable__control sk-hidden--visually\" id=\"sk-estimator-id-14\" type=\"checkbox\" ><label for=\"sk-estimator-id-14\" class=\"sk-toggleable__label sk-toggleable__label-arrow\">AtributosDesejados</label><div class=\"sk-toggleable__content\"><pre>AtributosDesejados()</pre></div></div></div><div class=\"sk-item sk-dashed-wrapped\"><div class=\"sk-label-container\"><div class=\"sk-label sk-toggleable\"><input class=\"sk-toggleable__control sk-hidden--visually\" id=\"sk-estimator-id-15\" type=\"checkbox\" ><label for=\"sk-estimator-id-15\" class=\"sk-toggleable__label sk-toggleable__label-arrow\">unecaracteristicas: FeatureUnion</label><div class=\"sk-toggleable__content\"><pre>FeatureUnion(transformer_list=[(&#x27;pipeline&#x27;,\n",
              "                                Pipeline(steps=[(&#x27;atributos_numericos&#x27;,\n",
              "                                                 AtributosNumericos()),\n",
              "                                                (&#x27;imputer&#x27;,\n",
              "                                                 SimpleImputer(strategy=&#x27;median&#x27;)),\n",
              "                                                (&#x27;scaler&#x27;, StandardScaler())])),\n",
              "                               (&#x27;pipecat&#x27;,\n",
              "                                Pipeline(steps=[(&#x27;atributos_categoricos&#x27;,\n",
              "                                                 AtributosCategoricos()),\n",
              "                                                (&#x27;imputer&#x27;,\n",
              "                                                 SimpleImputer(strategy=&#x27;most_frequent&#x27;)),\n",
              "                                                (&#x27;encoder&#x27;,\n",
              "                                                 OneHotEncoder())]))])</pre></div></div></div><div class=\"sk-parallel\"><div class=\"sk-parallel-item\"><div class=\"sk-item\"><div class=\"sk-label-container\"><div class=\"sk-label sk-toggleable\"><label>pipeline</label></div></div><div class=\"sk-serial\"><div class=\"sk-item\"><div class=\"sk-serial\"><div class=\"sk-item\"><div class=\"sk-estimator sk-toggleable\"><input class=\"sk-toggleable__control sk-hidden--visually\" id=\"sk-estimator-id-16\" type=\"checkbox\" ><label for=\"sk-estimator-id-16\" class=\"sk-toggleable__label sk-toggleable__label-arrow\">AtributosNumericos</label><div class=\"sk-toggleable__content\"><pre>AtributosNumericos()</pre></div></div></div><div class=\"sk-item\"><div class=\"sk-estimator sk-toggleable\"><input class=\"sk-toggleable__control sk-hidden--visually\" id=\"sk-estimator-id-17\" type=\"checkbox\" ><label for=\"sk-estimator-id-17\" class=\"sk-toggleable__label sk-toggleable__label-arrow\">SimpleImputer</label><div class=\"sk-toggleable__content\"><pre>SimpleImputer(strategy=&#x27;median&#x27;)</pre></div></div></div><div class=\"sk-item\"><div class=\"sk-estimator sk-toggleable\"><input class=\"sk-toggleable__control sk-hidden--visually\" id=\"sk-estimator-id-18\" type=\"checkbox\" ><label for=\"sk-estimator-id-18\" class=\"sk-toggleable__label sk-toggleable__label-arrow\">StandardScaler</label><div class=\"sk-toggleable__content\"><pre>StandardScaler()</pre></div></div></div></div></div></div></div></div><div class=\"sk-parallel-item\"><div class=\"sk-item\"><div class=\"sk-label-container\"><div class=\"sk-label sk-toggleable\"><label>pipecat</label></div></div><div class=\"sk-serial\"><div class=\"sk-item\"><div class=\"sk-serial\"><div class=\"sk-item\"><div class=\"sk-estimator sk-toggleable\"><input class=\"sk-toggleable__control sk-hidden--visually\" id=\"sk-estimator-id-19\" type=\"checkbox\" ><label for=\"sk-estimator-id-19\" class=\"sk-toggleable__label sk-toggleable__label-arrow\">AtributosCategoricos</label><div class=\"sk-toggleable__content\"><pre>AtributosCategoricos()</pre></div></div></div><div class=\"sk-item\"><div class=\"sk-estimator sk-toggleable\"><input class=\"sk-toggleable__control sk-hidden--visually\" id=\"sk-estimator-id-20\" type=\"checkbox\" ><label for=\"sk-estimator-id-20\" class=\"sk-toggleable__label sk-toggleable__label-arrow\">SimpleImputer</label><div class=\"sk-toggleable__content\"><pre>SimpleImputer(strategy=&#x27;most_frequent&#x27;)</pre></div></div></div><div class=\"sk-item\"><div class=\"sk-estimator sk-toggleable\"><input class=\"sk-toggleable__control sk-hidden--visually\" id=\"sk-estimator-id-21\" type=\"checkbox\" ><label for=\"sk-estimator-id-21\" class=\"sk-toggleable__label sk-toggleable__label-arrow\">OneHotEncoder</label><div class=\"sk-toggleable__content\"><pre>OneHotEncoder()</pre></div></div></div></div></div></div></div></div></div></div></div></div><div class=\"sk-item\"><div class=\"sk-estimator sk-toggleable\"><input class=\"sk-toggleable__control sk-hidden--visually\" id=\"sk-estimator-id-22\" type=\"checkbox\" ><label for=\"sk-estimator-id-22\" class=\"sk-toggleable__label sk-toggleable__label-arrow\">SVC</label><div class=\"sk-toggleable__content\"><pre>SVC(C=1)</pre></div></div></div></div></div></div></div>"
            ]
          },
          "metadata": {},
          "execution_count": 39
        }
      ]
    },
    {
      "cell_type": "code",
      "source": [
        "# Gerando as previsões e criando o arquivo de submissão\n",
        "submission_svm = pd.read_csv('gender_submission.csv')\n",
        "ypred_svm = modelo_svm.predict(test)\n",
        "submission_svm['Survived'] = ypred_svm\n",
        "submission_svm.to_csv('svm_gscv_submission.csv', index=False)"
      ],
      "metadata": {
        "id": "i830ipEd_G-c"
      },
      "execution_count": null,
      "outputs": []
    },
    {
      "cell_type": "markdown",
      "source": [
        "**Usando RandomForest e GradientBoosting**"
      ],
      "metadata": {
        "id": "LOhkJ3cXNwe2"
      }
    },
    {
      "cell_type": "code",
      "source": [
        "from sklearn.ensemble import RandomForestClassifier, GradientBoostingClassifier\n",
        "from sklearn.ensemble import VotingClassifier\n",
        "\n",
        "# Definindo os pipelines para RandomForest e GradientBoosting\n",
        "pipe_forest = Pipeline([\n",
        "    ('preproc', preproc),\n",
        "    ('forest', RandomForestClassifier(random_state=42))\n",
        "])\n",
        "\n",
        "pipe_gradient = Pipeline([\n",
        "    ('preproc', preproc),\n",
        "    ('gradient', GradientBoostingClassifier(random_state=42))\n",
        "])\n",
        "\n",
        "# Criando o ensemble VotingClassifier\n",
        "ensemble = VotingClassifier(estimators=[\n",
        "    ('forest', pipe_forest),\n",
        "    ('gradient', pipe_gradient)\n",
        "], voting='soft')  # Use 'soft' para atribuir pesos às previsões\n",
        "\n",
        "# Treinando o ensemble\n",
        "ensemble.fit(X, y)\n",
        "\n",
        "# Avaliando o ensemble usando cross-validation\n",
        "scores_ensemble = cross_validate(ensemble, X, y)\n",
        "np.mean(scores_ensemble['test_score'])\n",
        "\n",
        "# Predição e submissão\n",
        "ypred_ensemble = ensemble.predict(test)\n",
        "submission_ensemble = pd.read_csv('gender_submission.csv')\n",
        "submission_ensemble['Survived'] = ypred_ensemble\n",
        "submission_ensemble.to_csv('ensemble_submission.csv', index=False)"
      ],
      "metadata": {
        "id": "YU0JWtDmOD0W"
      },
      "execution_count": null,
      "outputs": []
    },
    {
      "cell_type": "code",
      "source": [
        "from sklearn.ensemble import VotingClassifier, StackingClassifier\n",
        "from sklearn.linear_model import LogisticRegression\n",
        "from sklearn.svm import SVC\n",
        "\n",
        "# Definindo classificadores individuais\n",
        "pipe_forest = Pipeline([\n",
        "    ('preproc', preproc),\n",
        "    ('forest', RandomForestClassifier(random_state=42))\n",
        "])\n",
        "\n",
        "pipe_gradient = Pipeline([\n",
        "    ('preproc', preproc),\n",
        "    ('gradient', GradientBoostingClassifier(random_state=42))\n",
        "])\n",
        "\n",
        "# Configurando Voting Classifier\n",
        "voting_classifier = VotingClassifier(estimators=[\n",
        "    ('forest', pipe_forest),\n",
        "    ('gradient', pipe_gradient)\n",
        "], voting='soft')\n",
        "\n",
        "# Configurando Stacking Classifier\n",
        "estimators = [\n",
        "    ('forest', pipe_forest),\n",
        "    ('gradient', pipe_gradient)\n",
        "]\n",
        "stacking_classifier = StackingClassifier(estimators=estimators, final_estimator=LogisticRegression())\n",
        "\n",
        "# Treinando e avaliando Voting Classifier\n",
        "scores_voting = cross_validate(voting_classifier, X, y)\n",
        "np.mean(scores_voting['test_score'])\n",
        "\n",
        "# Treinando e avaliando Stacking Classifier\n",
        "scores_stacking = cross_validate(stacking_classifier, X, y)\n",
        "np.mean(scores_stacking['test_score'])\n",
        "\n",
        "#-------------\n",
        "\n",
        "voting_classifier.fit(X, y)\n",
        "\n",
        "# Fazendo a predição com o Voting Classifier\n",
        "ypred_voting = voting_classifier.predict(test)\n",
        "\n",
        "# Criando arquivo de submissão para o Voting Classifier\n",
        "submission_voting = pd.read_csv('gender_submission.csv')\n",
        "submission_voting['Survived'] = ypred_voting\n",
        "submission_voting.to_csv('submission_voting.csv', index=False)\n",
        "\n",
        "# Treinando o Stacking Classifier\n",
        "stacking_classifier.fit(X, y)\n",
        "\n",
        "# Fazendo a predição com o Stacking Classifier\n",
        "ypred_stacking = stacking_classifier.predict(test)\n",
        "\n",
        "# Criando arquivo de submissão para o Stacking Classifier\n",
        "submission_stacking = pd.read_csv('gender_submission.csv')\n",
        "submission_stacking['Survived'] = ypred_stacking\n",
        "submission_stacking.to_csv('submission_stacking.csv', index=False)"
      ],
      "metadata": {
        "id": "4OOJ5CQXQ-ED"
      },
      "execution_count": 43,
      "outputs": []
    },
    {
      "cell_type": "markdown",
      "source": [
        "![image.png](data:image/png;base64,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)"
      ],
      "metadata": {
        "id": "rlxtlrlzaNv0"
      }
    }
  ],
  "metadata": {
    "colab": {
      "provenance": [],
      "authorship_tag": "ABX9TyPFMoYkv3S22SYZt71QuI4I",
      "include_colab_link": true
    },
    "kernelspec": {
      "display_name": "Python 3",
      "name": "python3"
    },
    "language_info": {
      "name": "python"
    }
  },
  "nbformat": 4,
  "nbformat_minor": 0
}